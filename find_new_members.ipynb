{
 "cells": [
  {
   "cell_type": "code",
   "execution_count": 1,
   "metadata": {},
   "outputs": [
    {
     "name": "stdout",
     "output_type": "stream",
     "text": [
      "Requirement already satisfied: pandas in d:\\anaconda\\lib\\site-packages (1.1.3)\n",
      "Requirement already satisfied: pytz>=2017.2 in d:\\anaconda\\lib\\site-packages (from pandas) (2020.1)\n",
      "Requirement already satisfied: python-dateutil>=2.7.3 in d:\\anaconda\\lib\\site-packages (from pandas) (2.8.1)\n",
      "Requirement already satisfied: numpy>=1.15.4 in d:\\anaconda\\lib\\site-packages (from pandas) (1.19.2)\n",
      "Requirement already satisfied: six>=1.5 in d:\\anaconda\\lib\\site-packages (from python-dateutil>=2.7.3->pandas) (1.15.0)\n",
      "Note: you may need to restart the kernel to use updated packages.\n"
     ]
    }
   ],
   "source": [
    "pip install pandas"
   ]
  },
  {
   "cell_type": "code",
   "execution_count": 2,
   "metadata": {},
   "outputs": [],
   "source": [
    "import pandas as pd"
   ]
  },
  {
   "cell_type": "code",
   "execution_count": 84,
   "metadata": {},
   "outputs": [],
   "source": [
    "dataUpdate = pd.read_csv(\"NewCSmembers.csv\",encoding = \"ISO-8859-1\", engine='python') \n",
    "dataOld = pd.read_csv(\"csMembers.csv\",encoding = \"ISO-8859-1\", engine='python') \n",
    "FullNameUpdate = dataUpdate[[\"Last Name \",\"First Name \"]]\n",
    "FullNameOld = dataOld[[\"Last Name \",\"First Name \"]]\n",
    "\n"
   ]
  },
  {
   "cell_type": "code",
   "execution_count": 85,
   "metadata": {},
   "outputs": [],
   "source": [
    "FullNameupdate = dataUpdate[\"Last Name \"] +\" \"+ dataUpdate[\"First Name \"] \n",
    "FullNameold = dataOld[\"Last Name \"] +\" \"+ dataOld[\"First Name \"]"
   ]
  },
  {
   "cell_type": "code",
   "execution_count": 86,
   "metadata": {},
   "outputs": [],
   "source": [
    "updateSet=set()\n",
    "oldSet=set()\n",
    "\n",
    "for i in FullNameupdate:\n",
    "    updateSet.add(i)\n",
    "\n",
    "for i in FullNameold:\n",
    "    oldSet.add(i)"
   ]
  },
  {
   "cell_type": "code",
   "execution_count": 87,
   "metadata": {},
   "outputs": [],
   "source": [
    "diffSet=updateSet.difference(oldSet)"
   ]
  },
  {
   "cell_type": "code",
   "execution_count": 88,
   "metadata": {},
   "outputs": [
    {
     "data": {
      "text/plain": [
       "{'Bellil Asma',\n",
       " 'Bourguiga oussama',\n",
       " 'Charrad Sirine',\n",
       " 'El Ouni Nermine',\n",
       " 'Imen Ouali',\n",
       " 'KAIDI Chourouk',\n",
       " 'Kamel Kharrat',\n",
       " 'Manar Ben',\n",
       " 'Mellekh Rayen',\n",
       " 'Salma Gouia Salma',\n",
       " 'Souguir Mohamed',\n",
       " 'Temimi Aziz',\n",
       " 'bettaieb ines',\n",
       " 'bichiou oumayma',\n",
       " 'zriba Emin'}"
      ]
     },
     "execution_count": 88,
     "metadata": {},
     "output_type": "execute_result"
    }
   ],
   "source": [
    "diffSet"
   ]
  },
  {
   "cell_type": "code",
   "execution_count": 92,
   "metadata": {},
   "outputs": [],
   "source": [
    "f = open(\"newNames.txt\", \"a\")\n",
    "for i in diffSet:\n",
    "    f.write(i+ '\\n')\n",
    "\n",
    "f.close()"
   ]
  },
  {
   "cell_type": "code",
   "execution_count": null,
   "metadata": {},
   "outputs": [],
   "source": []
  }
 ],
 "metadata": {
  "kernelspec": {
   "display_name": "Python 3",
   "language": "python",
   "name": "python3"
  },
  "language_info": {
   "codemirror_mode": {
    "name": "ipython",
    "version": 3
   },
   "file_extension": ".py",
   "mimetype": "text/x-python",
   "name": "python",
   "nbconvert_exporter": "python",
   "pygments_lexer": "ipython3",
   "version": "3.8.5"
  }
 },
 "nbformat": 4,
 "nbformat_minor": 4
}
